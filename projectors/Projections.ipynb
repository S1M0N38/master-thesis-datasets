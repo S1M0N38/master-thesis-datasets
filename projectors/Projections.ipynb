{
 "cells": [
  {
   "cell_type": "markdown",
   "id": "d191ed49-8f73-45f4-8557-ae9410a28ec6",
   "metadata": {},
   "source": [
    "# Datasets Projection\n",
    "\n",
    "- This notebook is used to produce plot the UMAP 2D plot of various encodings.\n",
    "- These plots will be included in a LaTeX document.\n",
    "- The library `matplotlib` is used as plotting library.\n",
    "- The hyperparm in `MBM` encoding is refer to $\\beta$ in the codebase but it's called $\\alpha$ in the LaTeX document"
   ]
  },
  {
   "cell_type": "code",
   "execution_count": null,
   "id": "5fb8103c-cf8b-49b6-9797-97449ea9c525",
   "metadata": {},
   "outputs": [],
   "source": [
    "from pathlib import Path\n",
    "import itertools\n",
    "\n",
    "# Data Analysis\n",
    "import pandas as pd\n",
    "import numpy as np\n",
    "\n",
    "# Plotting\n",
    "import matplotlib\n",
    "import matplotlib.pyplot as plt\n",
    "from matplotlib.backends.backend_pgf import FigureCanvasPgf\n",
    "import scienceplots\n",
    "\n",
    "TEXTWIDTH = 5.95114\n",
    "\n",
    "plt.style.use(['science', 'scatter'])\n",
    "matplotlib.backend_bases.register_backend('pdf', FigureCanvasPgf)\n",
    "matplotlib.rcParams.update(\n",
    "    {\n",
    "        \"pgf.texsystem\": \"pdflatex\",\n",
    "        \"font.family\": \"serif\",\n",
    "        \"text.usetex\": True,\n",
    "        \"pgf.rcfonts\": False,\n",
    "    }\n",
    ")\n",
    "colors = ['#0C5DA5', '#00B945', '#FF9500', '#FF2C00', '#845B97', '#474747', '#9e9e9e']\n",
    "markers = ['o', '^', 'v', '<', '>', 's', 'd']\n",
    "linestyles = [' ', ' ', ' ', ' ', ' ', ' ', ' '] \n",
    "\n",
    "shifted_cycle = plt.cycler(\n",
    "    color=colors * len(markers),\n",
    "    ls=linestyles * len(markers),\n",
    "    marker=itertools.chain(*(markers[i:] + markers[:i] for i, _ in enumerate(markers)))\n",
    ")\n",
    "\n",
    "\n",
    "PATH_ROOT = Path(\"..\")\n",
    "PATH_DATASETS = PATH_ROOT / \"datasets\""
   ]
  },
  {
   "cell_type": "markdown",
   "id": "b3991d5e-4241-4113-9fae-b74195515750",
   "metadata": {},
   "source": [
    "## CIFAR100"
   ]
  },
  {
   "cell_type": "code",
   "execution_count": null,
   "id": "1771d04d-9a7d-4135-9610-74b1300bc821",
   "metadata": {},
   "outputs": [],
   "source": [
    "DATASET = \"CIFAR100\"\n",
    "\n",
    "PATH_DATASET = PATH_ROOT / \"datasets\" / DATASET\n",
    "PATH_HIERARCHY = PATH_DATASET / \"hierarchy\" / \"hierarchy.npy\"\n",
    "PATH_PROJECTIONS = PATH_DATASET / \"projections\" / \"umap\"\n",
    "PATH_ENCODINGS = {\n",
    "    \"mbm\":  PATH_PROJECTIONS / \"mbm\" / \"beta5.0.npy\", # r\"MBM $\\alpha \\, 5.0$\"\n",
    "    \"b3p\": PATH_PROJECTIONS / \"b3p\" / \"beta0.4.npy\", # r\"B3P $\\beta \\, 0.4$\"\n",
    "    \"bd\": PATH_PROJECTIONS / \"barz-denzler.npy\", # r\"BD\"\n",
    "    \"desc\": PATH_PROJECTIONS / \"desc-pca\" / \"ada\" / \"austen\" / \"d100.npy\", #r\"Desc. $d \\, 100$\"\n",
    "}\n",
    "\n",
    "HIERARCHY = np.load(PATH_HIERARCHY)\n",
    "ENCODINGS = {\n",
    "    name: np.load(path)\n",
    "    for name, path in PATH_ENCODINGS.items()\n",
    "}\n",
    "LEVEL = 2\n",
    "LABELS = HIERARCHY[LEVEL]"
   ]
  },
  {
   "cell_type": "code",
   "execution_count": null,
   "id": "b0d5edbc-56da-4b63-9ea7-2b0e3d14405f",
   "metadata": {},
   "outputs": [],
   "source": [
    "for name, encoding in ENCODINGS.items():\n",
    "    fig, ax = plt.subplots(figsize=(TEXTWIDTH * 0.23, TEXTWIDTH * 0.23))\n",
    "    ax.set_prop_cycle(shifted_cycle)\n",
    "    for cls in np.unique(LABELS):\n",
    "        x, y = encoding[LABELS == cls].T\n",
    "        ax.plot(x, y, markersize=1)\n",
    "    ax.tick_params(axis='both', which='both', bottom=False, top=False, left=False, right=False)\n",
    "    ax.set_xticks([])\n",
    "    ax.set_yticks([])\n",
    "\n",
    "    fig.tight_layout()\n",
    "    fig.savefig(f'cifar100-encodings-{name}.pdf')\n",
    "    print(name)\n",
    "    plt.show()"
   ]
  },
  {
   "cell_type": "markdown",
   "id": "c5cef312-f975-4a75-aad4-3fb39b4d6be2",
   "metadata": {},
   "source": [
    "## iNaturalist19"
   ]
  },
  {
   "cell_type": "code",
   "execution_count": null,
   "id": "371f742e-5e42-4776-9183-59ec2ff4aca1",
   "metadata": {},
   "outputs": [],
   "source": [
    "DATASET = \"iNaturalist19\"\n",
    "\n",
    "PATH_DATASET = PATH_ROOT / \"datasets\" / DATASET\n",
    "PATH_HIERARCHY = PATH_DATASET / \"hierarchy\" / \"hierarchy.npy\"\n",
    "PATH_PROJECTIONS = PATH_DATASET / \"projections\" / \"umap\"\n",
    "PATH_ENCODINGS = {\n",
    "    \"mbm\":  PATH_PROJECTIONS / \"mbm\" / \"beta5.0.npy\", # Check for BUG # r\"MBM $\\alpha \\, 5.0$\"\n",
    "    \"b3p\": PATH_PROJECTIONS / \"b3p\" / \"beta0.5.npy\", # r\"B3P $\\beta \\, 0.5$\"\n",
    "    \"bd\": PATH_PROJECTIONS / \"barz-denzler.npy\", # r\"BD\"\n",
    "    \"desc\": PATH_PROJECTIONS / \"desc-pca\" / \"ada\" / \"austen\" / \"d100.npy\", #r\"Desc. $d \\, 100$\"\n",
    "}\n",
    "\n",
    "HIERARCHY = np.load(PATH_HIERARCHY)\n",
    "ENCODINGS = {\n",
    "    name: np.load(path)\n",
    "    for name, path in PATH_ENCODINGS.items()\n",
    "}\n",
    "LEVEL = 3\n",
    "LABELS = HIERARCHY[LEVEL]"
   ]
  },
  {
   "cell_type": "code",
   "execution_count": null,
   "id": "3f9e38cf-f99d-4bbf-887d-b7619eedca3d",
   "metadata": {},
   "outputs": [],
   "source": [
    "for name, encoding in ENCODINGS.items():\n",
    "    fig, ax = plt.subplots(figsize=(TEXTWIDTH / 2, TEXTWIDTH / 2))\n",
    "    ax.set_prop_cycle(shifted_cycle)\n",
    "    for cls in np.unique(LABELS):\n",
    "        x, y = encoding[LABELS == cls].T\n",
    "        ax.plot(x, y, markersize=1)\n",
    "    print(cls)\n",
    "    ax.tick_params(axis='both', which='both', bottom=False, top=False, left=False, right=False)\n",
    "    ax.set_xticks([])\n",
    "    ax.set_yticks([])\n",
    "\n",
    "    fig.tight_layout()\n",
    "    fig.savefig(f'inaturalist19-encodings-{name}.pdf')\n",
    "    print(name)\n",
    "    plt.show()"
   ]
  }
 ],
 "metadata": {
  "language_info": {
   "name": "python"
  }
 },
 "nbformat": 4,
 "nbformat_minor": 5
}
